{
 "cells": [
  {
   "cell_type": "code",
   "execution_count": 1,
   "id": "1389e0d0",
   "metadata": {},
   "outputs": [],
   "source": [
    "from IPython.display import Image, HTML, display"
   ]
  },
  {
   "cell_type": "code",
   "execution_count": 2,
   "id": "a7971143",
   "metadata": {
    "colab": {
     "base_uri": "https://localhost:8080/",
     "height": 286
    },
    "colab_type": "code",
    "id": "kN0eXkntnHFn",
    "outputId": "6d594940-f8b7-46ab-96d8-e3889407e776",
    "tags": []
   },
   "outputs": [
    {
     "data": {
      "text/html": [
       "<table><tr><td><img src='images/winding_currents_0Adc.png' width=400 height=250></td><td><img src='images/core_I_dc.png' width=400 height=250></td><td><img src='images/mmf_dcflux.png' width=400 height=50></td></tr></table>"
      ],
      "text/plain": [
       "<IPython.core.display.HTML object>"
      ]
     },
     "metadata": {},
     "output_type": "display_data"
    }
   ],
   "source": [
    "display(HTML(\"<table><tr><td><img src='images/winding_currents_0Adc.png' width=400 height=250></td><td><img src='images/core_I_dc.png' width=400 height=250></td><td><img src='images/mmf_dcflux.png' width=400 height=50></td></tr></table>\"))\n"
   ]
  },
  {
   "cell_type": "markdown",
   "id": "ce952d4e",
   "metadata": {
    "colab_type": "text",
    "id": "XIG2I5Bhnsak"
   },
   "source": [
    "#### opposing DC currents in windings 1&2 produce cancelling MMFs\n",
    "$F_{c1}+F_{c2}=0$\n",
    "\n",
    "#### consequently, MMFs on Fc,FL1,and FL2 are all zero\n",
    "$F_c=F_{L1}=F_{L2}=0$\n",
    "\n",
    "#### which means dc flux in all 3 legs is zero\n",
    "$\\Phi_c=\\Phi_{L1}=\\Phi_{L2}=0$"
   ]
  },
  {
   "cell_type": "code",
   "execution_count": null,
   "id": "9e85e1e9",
   "metadata": {},
   "outputs": [],
   "source": []
  }
 ],
 "metadata": {
  "kernelspec": {
   "display_name": "Python 3",
   "language": "python",
   "name": "python3"
  },
  "language_info": {
   "codemirror_mode": {
    "name": "ipython",
    "version": 3
   },
   "file_extension": ".py",
   "mimetype": "text/x-python",
   "name": "python",
   "nbconvert_exporter": "python",
   "pygments_lexer": "ipython3",
   "version": "3.10.4"
  }
 },
 "nbformat": 4,
 "nbformat_minor": 5
}
