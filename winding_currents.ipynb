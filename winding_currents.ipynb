{
 "cells": [
  {
   "cell_type": "code",
   "execution_count": 1,
   "id": "8af7db32",
   "metadata": {},
   "outputs": [],
   "source": [
    "from IPython.display import Image, HTML, display"
   ]
  },
  {
   "cell_type": "code",
   "execution_count": 2,
   "id": "96cd08c6",
   "metadata": {},
   "outputs": [
    {
     "data": {
      "image/png": "[encoded data removed]",
      "text/plain": [
       "<IPython.core.display.Image object>"
      ]
     },
     "execution_count": 2,
     "metadata": {
      "image/png": {
       "width": 400
      }
     },
     "output_type": "execute_result"
    }
   ],
   "source": [
    "Image('images/winding_currents_i_ext.png', width=400)"
   ]
  },
  {
   "cell_type": "markdown",
   "id": "75c6fff4",
   "metadata": {
    "colab_type": "text",
    "id": "ZuwEY9pr0nck"
   },
   "source": [
    "### Set up 4 equations to solve for $i_{n1}$, $i_{n2}$, $i_{w1}$, $i_{w2}$"
   ]
  },
  {
   "cell_type": "markdown",
   "id": "8f98230f",
   "metadata": {},
   "source": [
    "##### <span style=\"color:blue\">*if ac, imag is provided*\n",
    "##### <span style=\"color:blue\">*if dc, imag is solved for*"
   ]
  },
  {
   "cell_type": "markdown",
   "id": "2797dc94",
   "metadata": {},
   "source": [
    "#### Begin with 5 equations derived from the winding circuit diagram"
   ]
  },
  {
   "cell_type": "markdown",
   "id": "20931ae8",
   "metadata": {},
   "source": [
    "$\\quad i_{n1}-i_{w1}=i_{mag}$\n",
    "\n",
    "$\\quad i_{w1} = i_{w1ext}\\quad\\quad$ <span style=\"color:blue\">*if winding 1 is externally current driven*\n",
    "\n",
    "$\\quad -i_{n2}+i_{w2}=0$\n",
    "\n",
    "$\\quad i_{w2} = i_{w2ext}\\quad\\quad$ <span style=\"color:blue\">*if winding 2 is externally current driven*\n",
    "\n",
    "$\\quad N_ri_{n1}-i_{n2}=0$"
   ]
  },
  {
   "cell_type": "markdown",
   "id": "d0be4244",
   "metadata": {},
   "source": [
    "#### Then combine  eqns 3 & 5 to obtain a square matrix"
   ]
  },
  {
   "cell_type": "markdown",
   "id": "4d33d4d9",
   "metadata": {},
   "source": [
    "$\\quad i_{n1}-i_{w1}=i_{mag}$\n",
    "\n",
    "$\\quad i_{w1} = i_{w1ext}\\quad\\quad$ <span style=\"color:blue\">*if winding 1 is externally current driven*\n",
    "\n",
    "$\\quad i_{w2} = i_{w2ext}\\quad\\quad$ <span style=\"color:blue\">*if winding 2 is externally current driven*\n",
    "\n",
    "$\\quad N_ri_{n1}-2i_{n2}+i_{w2}=0$"
   ]
  },
  {
   "cell_type": "markdown",
   "id": "29026a4d",
   "metadata": {
    "tags": []
   },
   "source": [
    "#### Convert to matrix format"
   ]
  },
  {
   "cell_type": "markdown",
   "id": "035364f4",
   "metadata": {
    "tags": []
   },
   "source": [
    "$\\quad \\begin{equation*}\n",
    "\\begin{pmatrix}\n",
    "1 & 1 & 0 & -1 & 0 \\\\\n",
    "0 & 0 & 0 & i_{w1ext}>0 & 0 \\\\\n",
    "0 & 0 & -1 & 0 & 1\\\\\n",
    "0 & 0 & 0 & 0 & i_{w2ext}>0\\\\\n",
    "0 & N_r & -1 & 0 & 0\\\\\n",
    "\\end{pmatrix}\n",
    "\\begin{pmatrix}\n",
    "i_{mag} \\\\\n",
    "i_{n1} \\\\\n",
    "i_{n2} \\\\\n",
    "i_{w1} \\\\\n",
    "i_{w2} \\\\\n",
    "\\end{pmatrix}\n",
    "=\n",
    "\\begin{pmatrix}\n",
    "0 \\\\\n",
    "i_{w1ext} \\\\\n",
    "0 \\\\\n",
    "i_{w2ext} \\\\\n",
    "0 \\\\\n",
    "\\end{pmatrix}\n",
    "\\end{equation*}$\n"
   ]
  },
  {
   "cell_type": "markdown",
   "id": "ec8cc66e",
   "metadata": {
    "tags": []
   },
   "source": [
    "$\\quad \\begin{equation*}\n",
    "\\begin{pmatrix}\n",
    "1 & 0 & -1 & 0 \\\\\n",
    "0 & 0 & i_{w1ext}>0 & 0 \\\\\n",
    "0 & 0 & 0 & i_{w2ext}>0\\\\\n",
    "N_r & -2 & 0 & 1\\\\\n",
    "\\end{pmatrix}\n",
    "\\begin{pmatrix}\n",
    "i_{n1} \\\\\n",
    "i_{n2} \\\\\n",
    "i_{w1} \\\\\n",
    "i_{w2} \\\\\n",
    "\\end{pmatrix}\n",
    "=\n",
    "\\begin{pmatrix}\n",
    "i_{mag} \\\\\n",
    "i_{w1ext} \\\\\n",
    "i_{w2ext} \\\\\n",
    "0 \\\\\n",
    "\\end{pmatrix}\n",
    "\\end{equation*}$\n"
   ]
  },
  {
   "cell_type": "code",
   "execution_count": null,
   "id": "fc17ab77",
   "metadata": {},
   "outputs": [],
   "source": []
  },
  {
   "cell_type": "code",
   "execution_count": null,
   "id": "b9e3f0d7",
   "metadata": {},
   "outputs": [],
   "source": []
  }
 ],
 "metadata": {
  "kernelspec": {
   "display_name": "Python 3",
   "language": "python",
   "name": "python3"
  },
  "language_info": {
   "codemirror_mode": {
    "name": "ipython",
    "version": 3
   },
   "file_extension": ".py",
   "mimetype": "text/x-python",
   "name": "python",
   "nbconvert_exporter": "python",
   "pygments_lexer": "ipython3",
   "version": "3.10.4"
  }
 },
 "nbformat": 4,
 "nbformat_minor": 5
}
