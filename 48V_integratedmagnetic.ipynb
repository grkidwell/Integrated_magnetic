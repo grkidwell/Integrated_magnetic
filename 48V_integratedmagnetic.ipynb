{
  "nbformat": 4,
  "nbformat_minor": 0,
  "metadata": {
    "colab": {
      "name": "48V_integratedmagnetic.ipynb",
      "provenance": [],
      "collapsed_sections": [
        "Yradscw8ZhcN",
        "kTGsZRM_Zlcv"
      ],
      "include_colab_link": true
    },
    "kernelspec": {
      "name": "python3",
      "display_name": "Python 3"
    }
  },
  "cells": [
    {
      "cell_type": "markdown",
      "metadata": {
        "id": "view-in-github",
        "colab_type": "text"
      },
      "source": [
        "<a href=\"https://colab.research.google.com/github/grkidwell/Integrated_magnetic/blob/master/48V_integratedmagnetic.ipynb\" target=\"_parent\"><img src=\"https://colab.research.google.com/assets/colab-badge.svg\" alt=\"Open In Colab\"/></a>"
      ]
    },
    {
      "cell_type": "markdown",
      "metadata": {
        "id": "aeu_XshkZOqi",
        "colab_type": "text"
      },
      "source": [
        "#Integrated Magnetic"
      ]
    },
    {
      "cell_type": "markdown",
      "metadata": {
        "id": "1HfAh-MGZeI0",
        "colab_type": "text"
      },
      "source": [
        "### Libraries"
      ]
    },
    {
      "cell_type": "code",
      "metadata": {
        "id": "njGl3k21g3fs",
        "colab_type": "code",
        "colab": {}
      },
      "source": [
        "import numpy as np\n",
        "import matplotlib.pyplot as plt"
      ],
      "execution_count": 0,
      "outputs": []
    },
    {
      "cell_type": "markdown",
      "metadata": {
        "id": "Yradscw8ZhcN",
        "colab_type": "text"
      },
      "source": [
        "###Input Parameters"
      ]
    },
    {
      "cell_type": "code",
      "metadata": {
        "id": "K-Ss07bWZ0pg",
        "colab_type": "code",
        "colab": {}
      },
      "source": [
        "\n",
        "PQ26 = {'length':32, 'height':11, 'Area':119]}  #length, height  at core center (mean flux path).  Area is at center post\n",
        "nturns = {'half_window1':1, 'full':3, 'half_window2'}\n",
        "gap_lengths = {'AF':2.5e-4, 'BE':0, 'CD':2.5e-4}"
      ],
      "execution_count": 0,
      "outputs": []
    },
    {
      "cell_type": "markdown",
      "metadata": {
        "id": "kTGsZRM_Zlcv",
        "colab_type": "text"
      },
      "source": [
        "###Functions"
      ]
    },
    {
      "cell_type": "code",
      "metadata": {
        "id": "vUs1Wt7SaDbF",
        "colab_type": "code",
        "colab": {}
      },
      "source": [
        "def parallel(a,b):\n",
        "    return a*b/(a+b)\n",
        "  \n",
        "  \n",
        "class PQcore:\n",
        "    def __init__(core_geom, u=3200, gaps):\n",
        "        self.core_geometry = core_geom\n",
        "        self.gap_lengths = gap_lengths\n",
        "        self.u = u\n",
        "        self.area_cp2l_ratio=2\n",
        "        \n",
        "        \n",
        "class Winding:\n",
        "    def __init__(turns):\n",
        "        self.turns=turns\n",
        "    \n",
        "class IntegratedMagnetic:\n",
        "    def __init__(core, winding, windingcurrent):\n",
        "        self.core=core\n",
        "        self.core_area={'AB':self.core.core_geometry['Area']/self.are_cp2l_ratio,\n",
        "                        'BC':self.core.core_geometry['Area']/self.are_cp2l_ratio,\n",
        "                        'CD':self.core.core_geometry['Area']/self.are_cp2l_ratio,,\n",
        "                        'DE':self.core.core_geometry['Area'],\n",
        "                        'EF':self.core.core_geometry['Area'],\n",
        "                        /self.are_cp2l_ratio,/self.are_cp2l_ratio,}\n",
        "        self.core_fluxpath_lengths={'AB':self.core.length/2,\n",
        "                                    'BC':self.core.length/2,\n",
        "                                    'CD':self.core.height - self.core.gap_lengths['CD'],\n",
        "                                    'DE':self.core.length/2,\n",
        "                                    'EF':self.core.length/2,\n",
        "                                    'AF':self.core.height - self.core.gap_lengths['AF'],\n",
        "                                    'BE':self.core.height - self.core.gap_lengths['BE']}\n",
        "        \n",
        "                \n",
        "        self.winding=winding\n",
        "        self.fullturns  = self.winding.turns['full']\n",
        "        self.halfturns1 = self.winding.turns['half_window1']   # number of half turns through window 1\n",
        "        self.halfturns2 = self.winding.turns['half_window2']   # number of half turns through window 2\n",
        "        \n",
        "    def reluctance(ur,length,Area):\n",
        "        uo = 4*np.pi*e-7\n",
        "        return length/(uo*ur*Area)\n",
        "    \n",
        "    def flux(nturns,current,reluctance):\n",
        "        return nturns*current/reluctance\n",
        "  \n",
        "    def flux_divider(total_flux, reluctance1, reluctance2):\n",
        "        r_eq = parallel(reluctance1,reluctance2)\n",
        "        flux1 = r_eq/reluctance2\n",
        "        flux2 = r_eq/reluctance1\n",
        "        return [flux1, flux2]\n",
        "\n",
        "    def flux_from_halfturn1():\n",
        "         \n",
        "        \n",
        "    self.reluctance={}    \n",
        "    [self.reluctance[keys] = self.core_fluxpath_lengths[keys]/self.core for keys in self.core_fluxpath_lengths, self.reluctances = {'R_AB':reluctance(self.core.u,self.core_length_AB,self.core.area/2),\n",
        "                        'R_BC':reluctance(self.core.u,self.core_length_BC,self.core.area/2),\n",
        "                        }"
      ],
      "execution_count": 0,
      "outputs": []
    },
    {
      "cell_type": "markdown",
      "metadata": {
        "id": "IZU4xzqOZwHA",
        "colab_type": "text"
      },
      "source": [
        "###Results"
      ]
    },
    {
      "cell_type": "markdown",
      "metadata": {
        "id": "yCEPNoqHhSFi",
        "colab_type": "text"
      },
      "source": [
        ">>>$Dutycycle_{max}=1-Toff_{min}\\cdot Fs$"
      ]
    },
    {
      "cell_type": "code",
      "metadata": {
        "id": "pmPTYojcLVCH",
        "colab_type": "code",
        "outputId": "4c1fcf67-8189-48aa-d12b-3846fa22770e",
        "colab": {
          "base_uri": "https://localhost:8080/",
          "height": 34
        }
      },
      "source": [
        "Isys_prochot=19*Isys_resolution\n",
        "Isys_prochot"
      ],
      "execution_count": 0,
      "outputs": [
        {
          "output_type": "execute_result",
          "data": {
            "text/plain": [
              "4.864"
            ]
          },
          "metadata": {
            "tags": []
          },
          "execution_count": 5
        }
      ]
    },
    {
      "cell_type": "code",
      "metadata": {
        "id": "BoQ4IFsdRMcF",
        "colab_type": "code",
        "outputId": "67078947-ef3a-4536-bd3d-4cc60d437e6d",
        "colab": {
          "base_uri": "https://localhost:8080/",
          "height": 34
        }
      },
      "source": [
        "5/4.864"
      ],
      "execution_count": 0,
      "outputs": [
        {
          "output_type": "execute_result",
          "data": {
            "text/plain": [
              "1.0279605263157896"
            ]
          },
          "metadata": {
            "tags": []
          },
          "execution_count": 6
        }
      ]
    },
    {
      "cell_type": "code",
      "metadata": {
        "id": "Kq2O6H6NRUBO",
        "colab_type": "code",
        "outputId": "2aa6a954-ef64-4b8c-ab6c-8c23327e9a46",
        "colab": {
          "base_uri": "https://localhost:8080/",
          "height": 34
        }
      },
      "source": [
        "4.864*.005"
      ],
      "execution_count": 0,
      "outputs": [
        {
          "output_type": "execute_result",
          "data": {
            "text/plain": [
              "0.02432"
            ]
          },
          "metadata": {
            "tags": []
          },
          "execution_count": 8
        }
      ]
    },
    {
      "cell_type": "code",
      "metadata": {
        "id": "MRYga4SnauHg",
        "colab_type": "code",
        "cellView": "both",
        "outputId": "52326957-62fc-4093-954d-7b71876676fa",
        "colab": {
          "base_uri": "https://localhost:8080/",
          "height": 51
        }
      },
      "source": [
        "#@title\n",
        "print('At fs=%3.1fkHz          Max_Dutycycle = %3.1f%%' % (fs_nom/1000, Dmax(fs_nom)*100))\n",
        "print('At fs=%3.1fkHz, %3.1fVin  Max_Vout      = %3.1fV' % (fs_nom/1000, Vin_min, Vout_max(fs_nom, Vin_min)))"
      ],
      "execution_count": 0,
      "outputs": [
        {
          "output_type": "stream",
          "text": [
            "At fs=750.0kHz          Max_Dutycycle = 83.5%\n",
            "At fs=750.0kHz, 9.0Vin  Max_Vout      = 7.5V\n"
          ],
          "name": "stdout"
        }
      ]
    },
    {
      "cell_type": "code",
      "metadata": {
        "id": "PozLkYR6LSd1",
        "colab_type": "code",
        "colab": {}
      },
      "source": [
        ""
      ],
      "execution_count": 0,
      "outputs": []
    }
  ]
}