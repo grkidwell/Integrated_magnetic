{
  "nbformat": 4,
  "nbformat_minor": 0,
  "metadata": {
    "colab": {
      "name": "48V_integratedmagnetic.ipynb",
      "provenance": [],
      "collapsed_sections": [],
      "toc_visible": true,
      "include_colab_link": true
    },
    "kernelspec": {
      "name": "python3",
      "display_name": "Python 3"
    }
  },
  "cells": [
    {
      "cell_type": "markdown",
      "metadata": {
        "id": "view-in-github",
        "colab_type": "text"
      },
      "source": [
        "<a href=\"https://colab.research.google.com/github/grkidwell/Integrated_magnetic/blob/master/48V_integratedmagnetic.ipynb\" target=\"_parent\"><img src=\"https://colab.research.google.com/assets/colab-badge.svg\" alt=\"Open In Colab\"/></a>"
      ]
    },
    {
      "cell_type": "markdown",
      "metadata": {
        "id": "aeu_XshkZOqi",
        "colab_type": "text"
      },
      "source": [
        "#Integrated Magnetic"
      ]
    },
    {
      "cell_type": "markdown",
      "metadata": {
        "id": "1HfAh-MGZeI0",
        "colab_type": "text"
      },
      "source": [
        "### Libraries"
      ]
    },
    {
      "cell_type": "code",
      "metadata": {
        "id": "njGl3k21g3fs",
        "colab_type": "code",
        "colab": {}
      },
      "source": [
        "import numpy as np\n",
        "import matplotlib.pyplot as plt"
      ],
      "execution_count": 0,
      "outputs": []
    },
    {
      "cell_type": "markdown",
      "metadata": {
        "id": "kTGsZRM_Zlcv",
        "colab_type": "text"
      },
      "source": [
        "###Classes"
      ]
    },
    {
      "cell_type": "markdown",
      "metadata": {
        "id": "OJKbJUPnw5R-",
        "colab_type": "text"
      },
      "source": [
        "#### Core"
      ]
    },
    {
      "cell_type": "code",
      "metadata": {
        "id": "FEFbOZoMx2wq",
        "colab_type": "code",
        "colab": {}
      },
      "source": [
        "class PQcore:\n",
        "    def __init__(self, core_geom, u, gaps):\n",
        "        self.core_geometry = core_geom\n",
        "        self.gap_lengths = gap_lengths\n",
        "        self.u = u\n",
        "        self.area_cp2l_ratio=2\n",
        "        \n",
        "        self.leg_areas = {'left':self.core_geometry['Area']/self.area_cp2l_ratio,\n",
        "                          'right':self.core_geometry['Area']/self.area_cp2l_ratio,\n",
        "                          'center':self.core_geometry['Area']}\n",
        "        \n",
        "        self.segment_areas={\n",
        "            'AB':self.leg_areas['left'],\n",
        "            'BC':self.leg_areas['right'],\n",
        "            'CD':self.leg_areas['right'], \n",
        "            'DE':self.leg_areas['right'],\n",
        "            'EF':self.leg_areas['left'],\n",
        "            'AF':self.leg_areas['left'],\n",
        "            'BE':self.leg_areas['center']}\n",
        "        \n",
        "        self.segment_fluxpath_lengths={\n",
        "            'AB':self.core_geometry['length']/2,\n",
        "            'BC':self.core_geometry['length']/2,\n",
        "            'CD':self.core_geometry['height'] - self.gap_lengths['CD'],\n",
        "            'DE':self.core_geometry['length']/2,\n",
        "            'EF':self.core_geometry['length']/2,\n",
        "            'AF':self.core_geometry['height'] - self.gap_lengths['AF'],\n",
        "            'BE':self.core_geometry['height'] - self.gap_lengths['BE']}"
      ],
      "execution_count": 0,
      "outputs": []
    },
    {
      "cell_type": "markdown",
      "metadata": {
        "id": "C1W9eZ7DyBBZ",
        "colab_type": "text"
      },
      "source": [
        "#### Winding"
      ]
    },
    {
      "cell_type": "code",
      "metadata": {
        "id": "I2p00r3_yIjm",
        "colab_type": "code",
        "colab": {}
      },
      "source": [
        "class Winding:\n",
        "    def __init__(self, turns):\n",
        "        self.turns=turns"
      ],
      "execution_count": 0,
      "outputs": []
    },
    {
      "cell_type": "markdown",
      "metadata": {
        "id": "DLJ0MyBqxG4b",
        "colab_type": "text"
      },
      "source": [
        "#### Reluctance"
      ]
    },
    {
      "cell_type": "code",
      "metadata": {
        "id": "4HazC8e60t2L",
        "colab_type": "code",
        "colab": {}
      },
      "source": [
        "class Reluctance_model:\n",
        "\n",
        "  #valid for 3 leg EE/EI type core geometry (EE, EI, PQ, RM, etc.)\n",
        "  \n",
        "    def __init__(self,core):\n",
        "      \n",
        "        self.core=core\n",
        "        \n",
        "        #create dictionary of core segment reluctances\n",
        "        self.segment_reluctances = {key: self.reluctance(ur=self.core.u, length=value, area=self.core.segment_areas[key])  for key, value in self.core.segment_fluxpath_lengths.items()}\n",
        "    \n",
        "        #add gap reluctances to legs\n",
        "        for key, value in self.core.gap_lengths.items():\n",
        "            self.segment_reluctances[key]+=self.reluctance(ur=1, length=value, area=self.core.segment_areas[key])\n",
        "        \n",
        "        #each leg is made up of segments\n",
        "        self.leg_segments={\n",
        "            'left':   ['AB','EF','AF'],\n",
        "            'right':  ['BC','CD','DE'],\n",
        "            'center': ['BE']\n",
        "        }\n",
        "        \n",
        "        #create dictionary of leg reluctances\n",
        "        self.leg_reluctances = {leg: self.total_reluctance(segmentlist) for leg, segmentlist in self.leg_segments.items()}\n",
        "        \n",
        "        #create dictionary of reluctances seen by each winding\n",
        "        self.winding_reluctances = {'half_window1': self.leg_reluctances['left']  + self.parallel(self.leg_reluctances['center'],self.leg_reluctances['right']),\n",
        "                                    'half_window2': self.leg_reluctances['right'] + self.parallel(self.leg_reluctances['center'],self.leg_reluctances['left']),\n",
        "                                    'full'        : self.leg_reluctances['center']+ self.parallel(self.leg_reluctances['left'],self.leg_reluctances['right'])}\n",
        "    \n",
        "        #create dictionary of parallel reluctances.  Used in superposition calculation\n",
        "        self.parallel_reluctances = {'Rpc2': self.parallel(self.leg_reluctances['center'],self.leg_reluctances['right']),\n",
        "                                     'Rpc1': self.parallel(self.leg_reluctances['center'],self.leg_reluctances['left']),\n",
        "                                     'Rp12': self.parallel(self.leg_reluctances['left'],  self.leg_reluctances['right'])}\n",
        "        \n",
        "        \n",
        "        \n",
        "    def reluctance(self,ur,length,area): \n",
        "        uo = 4*np.pi*1e-7\n",
        "        return length/(uo*ur*area)\n",
        "      \n",
        "    def total_reluctance(self,segmentlist):\n",
        "        reluctance_list = [self.segment_reluctances[segment] for segment in segmentlist]\n",
        "        return sum(reluctance_list)\n",
        "    \n",
        "    def parallel(self,a,b):\n",
        "        return a*b/(a+b)"
      ],
      "execution_count": 0,
      "outputs": []
    },
    {
      "cell_type": "markdown",
      "metadata": {
        "id": "ZuwEY9pr0nck",
        "colab_type": "text"
      },
      "source": [
        "#### Permeance"
      ]
    },
    {
      "cell_type": "code",
      "metadata": {
        "id": "LpXr-SqMy9VX",
        "colab_type": "code",
        "colab": {}
      },
      "source": [
        "#class Permeance_model:\n",
        "# use inheritance to pull in traits from reluctance model  \n",
        "#    self.leg_permeances = self.permeance_dicts(self.leg_reluctances)  \n",
        "#    def permeance_dicts(self,r):\n",
        "#        return {key: 1/value for key, value in r.items()}\n"
      ],
      "execution_count": 0,
      "outputs": []
    },
    {
      "cell_type": "markdown",
      "metadata": {
        "id": "gto_uTeyyxeS",
        "colab_type": "text"
      },
      "source": [
        "#### DC fluxes and currents"
      ]
    },
    {
      "cell_type": "code",
      "metadata": {
        "id": "vUs1Wt7SaDbF",
        "colab_type": "code",
        "colab": {}
      },
      "source": [
        "class DC_fluxes_and_currents:\n",
        "  \n",
        "    def __init__(self, core, winding, iout):  #warning: an imbalance in leg currents could produce DC flux in the magnetizing \n",
        "        self.core=core               \n",
        "        self.winding=winding\n",
        "        self.iout = iout\n",
        "        self.reluctances=Reluctance_model(self.core)\n",
        "        \n",
        "        self.dc_fluxes_and_currents=self.calculate_dc_fluxes_and_currents()\n",
        "        self.dc_fluxes = self.dc_fluxes_and_currents['dc_flux_per_leg']\n",
        "        self.dc_currents = self.dc_fluxes_and_currents['amps_per_winding']\n",
        "        \n",
        "    def calculate_dc_fluxes_and_currents(self):\n",
        "        nc1=self.winding.turns['full1']\n",
        "        nc2=self.winding.turns['full2']\n",
        "        n1=self.winding.turns['half_window1']\n",
        "        n2=self.winding.turns['half_window2']\n",
        "        \n",
        "        r1=self.reluctances.leg_reluctances['left']\n",
        "        r2=self.reluctances.leg_reluctances['right']\n",
        "        rc=self.reluctances.leg_reluctances['center']\n",
        "        \n",
        "        rpc1=self.reluctances.parallel_reluctances['Rpc1']\n",
        "        rpc2=self.reluctances.parallel_reluctances['Rpc2']\n",
        "        rp12=self.reluctances.parallel_reluctances['Rp12']\n",
        "        \n",
        "        \n",
        "        coefficients = np.array([\n",
        "            [n1, n2, -r1, -r2],\n",
        "            [n1, n2,   0,   0],\n",
        "            [nc1,-nc2,  0,  0],\n",
        "            [n1*rpc2/(r1+rpc2)-rp12*nc1/(rc+rp12)-n1, rp12*nc2/(rc+rp12)-rpc1*n2/(r2+rpc1), r1, 0]])\n",
        "        \n",
        "        const_array = np.array([        0,\n",
        "                                self.iout,\n",
        "                                        0,\n",
        "                                        0])\n",
        "        \n",
        "        #solve for [I1,I2,flux1,flux2]\n",
        "        solution = np.linalg.solve(coefficients,const_array)\n",
        "        \n",
        "        #half_window1 winding is in series with full1 winding, so both are I1\n",
        "        #half_window2 winding is in series with full2 winding, so both are I2\n",
        "        amps_per_winding = {'half_window1':solution[0], 'full1':solution[0],\n",
        "                            'half_window2':solution[1], 'full2':solution[1]}\n",
        "        \n",
        "        #'up' = positive for all 3 legs\n",
        "        dc_flux_per_leg = {'left':solution[2],'right':-solution[3],'center':-(solution[2]-solution[3])}\n",
        "        \n",
        "        return {'amps_per_winding':amps_per_winding, 'dc_flux_per_leg':dc_flux_per_leg}\n"
      ],
      "execution_count": 0,
      "outputs": []
    },
    {
      "cell_type": "markdown",
      "metadata": {
        "id": "7TGxEGoMxXhu",
        "colab_type": "text"
      },
      "source": [
        "#### AC fluxes"
      ]
    },
    {
      "cell_type": "code",
      "metadata": {
        "id": "RR32w9HdxDDq",
        "colab_type": "code",
        "colab": {}
      },
      "source": [
        "class AC_fluxes:   #only for Vout=<Vin/4\n",
        "    \n",
        "    def __init__(self, core, winding, vin, vout, fs, state):\n",
        "      \n",
        "        self.core=core\n",
        "        \n",
        "        self.winding=winding        \n",
        "        self.fullturns1  = self.winding.turns['full1']\n",
        "        self.fullturns2  = self.winding.turns['full2']\n",
        "        self.halfturns1 = self.winding.turns['half_window1']   # number of half turns through window 1\n",
        "        self.halfturns2 = self.winding.turns['half_window2']   # number of half turns through window 2\n",
        "        \n",
        "        self.vin = vin\n",
        "        self.vout = vout\n",
        "        self.duty = self.vout/(self.vin/2)\n",
        "        self.fs = fs\n",
        "        \n",
        "        self.state = state\n",
        "        \n",
        "    def fluxrates(self):\n",
        "        vphase1 = {'state1':self.vin/2,\n",
        "                   'state2':0,\n",
        "                   'state3':0,\n",
        "                   'state4':0}\n",
        "        vphase2 = {'state1':0,\n",
        "                   'state2':0,\n",
        "                   'state3':self.vin/2,\n",
        "                   'state4':0}\n",
        "        \n",
        "        \n",
        "        #3 equations, 3 unknowns to solve for flux rates.  \n",
        "        #'up' = positive for all 3 legs\n",
        "        coefficients = np.array([\n",
        "                        [self.halfturns1, -self.fullturns1,               0],\n",
        "                        [              0, -self.fullturns2, self.halfturns2],\n",
        "                        [              1,             1,               1]])\n",
        "        \n",
        "        winding_voltages = np.array([vphase1[self.state]-self.vout,\n",
        "                                     self.vout-vphase2[self.state],\n",
        "                                                                 0])\n",
        "        legs = ['left','center','right']\n",
        "        fluxratedict=dict(zip(legs,np.linalg.solve(coefficients,winding_voltages)))\n",
        "        return  fluxratedict\n",
        "      \n",
        "\n",
        "    def time_states(self):\n",
        "        ts = 1/self.fs\n",
        "        t1 = self.duty*ts\n",
        "        t3 = t1\n",
        "        t2 = (ts-t1-t3)/2\n",
        "        t4 = t2\n",
        "        return {'state1':t1,\n",
        "                'state2':t2,\n",
        "                'state3':t3,\n",
        "                'state4':t4}\n",
        "        \n",
        "    def bac(self):\n",
        "        flxrates=self.fluxrates()\n",
        "        tstate=self.time_states()[self.state]\n",
        "        b_pp={leg:fluxrate*tstate/self.core.leg_areas[leg] for leg, fluxrate in flxrates.items() }\n",
        "        return b_pp"
      ],
      "execution_count": 0,
      "outputs": []
    },
    {
      "cell_type": "markdown",
      "metadata": {
        "id": "p6Wuqm8_rF_I",
        "colab_type": "text"
      },
      "source": [
        "#### AC currents"
      ]
    },
    {
      "cell_type": "code",
      "metadata": {
        "id": "hYZbTeGUrKlo",
        "colab_type": "code",
        "colab": {}
      },
      "source": [
        ""
      ],
      "execution_count": 0,
      "outputs": []
    },
    {
      "cell_type": "markdown",
      "metadata": {
        "id": "_X3EBWGqxmSD",
        "colab_type": "text"
      },
      "source": [
        "#### DC+AC Winding currents"
      ]
    },
    {
      "cell_type": "markdown",
      "metadata": {
        "id": "VgZjWJIgr148",
        "colab_type": "text"
      },
      "source": [
        "#### Flux Densities"
      ]
    },
    {
      "cell_type": "code",
      "metadata": {
        "id": "1-4cOzLfy6OW",
        "colab_type": "code",
        "colab": {}
      },
      "source": [
        ""
      ],
      "execution_count": 0,
      "outputs": []
    },
    {
      "cell_type": "markdown",
      "metadata": {
        "id": "Yradscw8ZhcN",
        "colab_type": "text"
      },
      "source": [
        "###Input Parameters"
      ]
    },
    {
      "cell_type": "code",
      "metadata": {
        "id": "K-Ss07bWZ0pg",
        "colab_type": "code",
        "colab": {}
      },
      "source": [
        "Vin = 48\n",
        "Vout = 12\n",
        "iout = 60\n",
        "\n",
        "area=62e-6\n",
        "fs=200e3\n",
        "\n",
        "state='state1'\n",
        "\n",
        "PQ26 = {'length':32e-3, 'height':11e-3, 'Area':119e-6}  #length, height  at core center (mean flux path).  Area is at center post\n",
        "nturns = {'half_window1':1, 'full1':3, 'full2':3, 'half_window2':1}\n",
        "gap_lengths = {'AF':0.3e-3, 'BE':0.3e-3, 'CD':0.3e-3}\n",
        "\n",
        "pq26intcore=PQcore(PQ26,3200,gap_lengths)\n",
        "wind3p5turn=Winding(nturns)"
      ],
      "execution_count": 0,
      "outputs": []
    },
    {
      "cell_type": "markdown",
      "metadata": {
        "id": "IZU4xzqOZwHA",
        "colab_type": "text"
      },
      "source": [
        "###Results"
      ]
    },
    {
      "cell_type": "code",
      "metadata": {
        "id": "pmPTYojcLVCH",
        "colab_type": "code",
        "colab": {
          "base_uri": "https://localhost:8080/",
          "height": 34
        },
        "outputId": "8289f925-0666-46d3-dbb8-d3c2f98a9447"
      },
      "source": [
        "\n",
        "reluctances = Reluctance_model(pq26intcore)\n",
        "#reluctances.leg_reluctances,reluctances.parallel_reluctances\n",
        "1/reluctances.leg_reluctances['left'],9/reluctances.leg_reluctances['center']"
      ],
      "execution_count": 31,
      "outputs": [
        {
          "output_type": "execute_result",
          "data": {
            "text/plain": [
              "(2.3861942405245705e-07, 4.436743110078475e-06)"
            ]
          },
          "metadata": {
            "tags": []
          },
          "execution_count": 31
        }
      ]
    },
    {
      "cell_type": "code",
      "metadata": {
        "id": "PozLkYR6LSd1",
        "colab_type": "code",
        "colab": {
          "base_uri": "https://localhost:8080/",
          "height": 68
        },
        "outputId": "07193ca9-dbc9-424f-e95d-fc4cf84435bc"
      },
      "source": [
        "dc_fluxes_and_currents=DC_fluxes_and_currents(core=pq26intcore,winding=wind3p5turn,iout=iout)\n",
        "#dc_fluxes_and_currents.dc_fluxes['full1']#/(PQ26['Area']/2)\n",
        "dc_fluxes_and_currents.dc_fluxes#['left']/(PQ26['Area']/2)"
      ],
      "execution_count": 32,
      "outputs": [
        {
          "output_type": "execute_result",
          "data": {
            "text/plain": [
              "{'center': -0.0,\n",
              " 'left': 7.1585827215737105e-06,\n",
              " 'right': -7.1585827215737105e-06}"
            ]
          },
          "metadata": {
            "tags": []
          },
          "execution_count": 32
        }
      ]
    },
    {
      "cell_type": "code",
      "metadata": {
        "id": "EDRNLNriWTiT",
        "colab_type": "code",
        "colab": {
          "base_uri": "https://localhost:8080/",
          "height": 68
        },
        "outputId": "324840ba-48e7-4928-ab67-de8fd6d5c52e"
      },
      "source": [
        "ac_rate_state1= AC_fluxes(core=PQcore(PQ26,3200,gap_lengths), winding=Winding(nturns), vin=Vin, vout=Vout, fs=fs, state=state)\n",
        "#ac_rate_state1.bac()\n",
        "ac_rate_state1.fluxrates()"
      ],
      "execution_count": 33,
      "outputs": [
        {
          "output_type": "execute_result",
          "data": {
            "text/plain": [
              "{'center': -3.4285714285714284,\n",
              " 'left': 1.7142857142857153,\n",
              " 'right': 1.7142857142857142}"
            ]
          },
          "metadata": {
            "tags": []
          },
          "execution_count": 33
        }
      ]
    },
    {
      "cell_type": "code",
      "metadata": {
        "id": "3X5b0vYJW7sm",
        "colab_type": "code",
        "colab": {}
      },
      "source": [
        ""
      ],
      "execution_count": 0,
      "outputs": []
    }
  ]
}