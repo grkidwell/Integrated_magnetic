{
  "nbformat": 4,
  "nbformat_minor": 0,
  "metadata": {
    "colab": {
      "name": "48V_integratedmagnetic.ipynb",
      "provenance": [],
      "collapsed_sections": [
        "1HfAh-MGZeI0",
        "kTGsZRM_Zlcv",
        "OJKbJUPnw5R-",
        "C1W9eZ7DyBBZ",
        "I9t-_vEHJGoB",
        "7TGxEGoMxXhu",
        "DLJ0MyBqxG4b",
        "gto_uTeyyxeS",
        "ZuwEY9pr0nck",
        "VgZjWJIgr148",
        "_X3EBWGqxmSD",
        "p6Wuqm8_rF_I"
      ],
      "toc_visible": true,
      "include_colab_link": true
    },
    "kernelspec": {
      "name": "python3",
      "display_name": "Python 3"
    }
  },
  "cells": [
    {
      "cell_type": "markdown",
      "metadata": {
        "id": "view-in-github",
        "colab_type": "text"
      },
      "source": [
        "<a href=\"https://colab.research.google.com/github/grkidwell/Integrated_magnetic/blob/master/48V_integratedmagnetic.ipynb\" target=\"_parent\"><img src=\"https://colab.research.google.com/assets/colab-badge.svg\" alt=\"Open In Colab\"/></a>"
      ]
    },
    {
      "cell_type": "markdown",
      "metadata": {
        "id": "aeu_XshkZOqi",
        "colab_type": "text"
      },
      "source": [
        "#Integrated Magnetic"
      ]
    },
    {
      "cell_type": "markdown",
      "metadata": {
        "id": "1HfAh-MGZeI0",
        "colab_type": "text"
      },
      "source": [
        "### Libraries"
      ]
    },
    {
      "cell_type": "code",
      "metadata": {
        "id": "njGl3k21g3fs",
        "colab_type": "code",
        "colab": {}
      },
      "source": [
        "import numpy as np\n",
        "import matplotlib.pyplot as plt\n",
        "import sys\n",
        "from IPython.display import Image, HTML, display"
      ],
      "execution_count": 0,
      "outputs": []
    },
    {
      "cell_type": "code",
      "metadata": {
        "id": "-jKCzc24APO7",
        "colab_type": "code",
        "outputId": "5f5a7c3c-f6c6-4303-c8dd-4dfe61318b75",
        "colab": {
          "base_uri": "https://localhost:8080/",
          "height": 119
        }
      },
      "source": [
        "!rm -r time_based_waveforms\n",
        "!git clone https://github.com/grkidwell/time_based_waveforms.git\n",
        "sys.path.append('time_based_waveforms')"
      ],
      "execution_count": 2,
      "outputs": [
        {
          "output_type": "stream",
          "text": [
            "Cloning into 'time_based_waveforms'...\n",
            "remote: Enumerating objects: 19, done.\u001b[K\n",
            "remote: Counting objects:   5% (1/19)\u001b[K\rremote: Counting objects:  10% (2/19)\u001b[K\rremote: Counting objects:  15% (3/19)\u001b[K\rremote: Counting objects:  21% (4/19)\u001b[K\rremote: Counting objects:  26% (5/19)\u001b[K\rremote: Counting objects:  31% (6/19)\u001b[K\rremote: Counting objects:  36% (7/19)\u001b[K\rremote: Counting objects:  42% (8/19)\u001b[K\rremote: Counting objects:  47% (9/19)\u001b[K\rremote: Counting objects:  52% (10/19)\u001b[K\rremote: Counting objects:  57% (11/19)\u001b[K\rremote: Counting objects:  63% (12/19)\u001b[K\rremote: Counting objects:  68% (13/19)\u001b[K\rremote: Counting objects:  73% (14/19)\u001b[K\rremote: Counting objects:  78% (15/19)\u001b[K\rremote: Counting objects:  84% (16/19)\u001b[K\rremote: Counting objects:  89% (17/19)\u001b[K\rremote: Counting objects:  94% (18/19)\u001b[K\rremote: Counting objects: 100% (19/19)\u001b[K\rremote: Counting objects: 100% (19/19), done.\u001b[K\n",
            "remote: Compressing objects: 100% (17/17), done.\u001b[K\n",
            "remote: Total 19 (delta 5), reused 7 (delta 2), pack-reused 0\u001b[K\n",
            "Unpacking objects: 100% (19/19), done.\n"
          ],
          "name": "stdout"
        }
      ]
    },
    {
      "cell_type": "code",
      "metadata": {
        "id": "ttKsczrxpvg7",
        "colab_type": "code",
        "colab": {
          "base_uri": "https://localhost:8080/",
          "height": 119
        },
        "outputId": "22a9a320-4596-4344-e871-c017ea302ccc"
      },
      "source": [
        "!rm -r Integrated_magnetic\n",
        "!git clone https://github.com/grkidwell/Integrated_magnetic.git\n",
        "sys.path.append('Integrated_magnetic')"
      ],
      "execution_count": 29,
      "outputs": [
        {
          "output_type": "stream",
          "text": [
            "Cloning into 'Integrated_magnetic'...\n",
            "remote: Enumerating objects: 6, done.\u001b[K\n",
            "remote: Counting objects:  16% (1/6)\u001b[K\rremote: Counting objects:  33% (2/6)\u001b[K\rremote: Counting objects:  50% (3/6)\u001b[K\rremote: Counting objects:  66% (4/6)\u001b[K\rremote: Counting objects:  83% (5/6)\u001b[K\rremote: Counting objects: 100% (6/6)\u001b[K\rremote: Counting objects: 100% (6/6), done.\u001b[K\n",
            "remote: Compressing objects:  16% (1/6)\u001b[K\rremote: Compressing objects:  33% (2/6)\u001b[K\rremote: Compressing objects:  50% (3/6)\u001b[K\rremote: Compressing objects:  66% (4/6)\u001b[K\rremote: Compressing objects:  83% (5/6)\u001b[K\rremote: Compressing objects: 100% (6/6)\u001b[K\rremote: Compressing objects: 100% (6/6), done.\u001b[K\n",
            "Unpacking objects:   1% (1/75)   \rUnpacking objects:   2% (2/75)   \rUnpacking objects:   4% (3/75)   \rUnpacking objects:   5% (4/75)   \rUnpacking objects:   6% (5/75)   \rUnpacking objects:   8% (6/75)   \rUnpacking objects:   9% (7/75)   \rUnpacking objects:  10% (8/75)   \rUnpacking objects:  12% (9/75)   \rUnpacking objects:  13% (10/75)   \rUnpacking objects:  14% (11/75)   \rUnpacking objects:  16% (12/75)   \rUnpacking objects:  17% (13/75)   \rUnpacking objects:  18% (14/75)   \rUnpacking objects:  20% (15/75)   \rUnpacking objects:  21% (16/75)   \rUnpacking objects:  22% (17/75)   \rUnpacking objects:  24% (18/75)   \rUnpacking objects:  25% (19/75)   \rUnpacking objects:  26% (20/75)   \rUnpacking objects:  28% (21/75)   \rUnpacking objects:  29% (22/75)   \rUnpacking objects:  30% (23/75)   \rUnpacking objects:  32% (24/75)   \rUnpacking objects:  33% (25/75)   \rUnpacking objects:  34% (26/75)   \rUnpacking objects:  36% (27/75)   \rUnpacking objects:  37% (28/75)   \rUnpacking objects:  38% (29/75)   \rUnpacking objects:  40% (30/75)   \rUnpacking objects:  41% (31/75)   \rUnpacking objects:  42% (32/75)   \rUnpacking objects:  44% (33/75)   \rUnpacking objects:  45% (34/75)   \rUnpacking objects:  46% (35/75)   \rUnpacking objects:  48% (36/75)   \rUnpacking objects:  49% (37/75)   \rUnpacking objects:  50% (38/75)   \rUnpacking objects:  52% (39/75)   \rUnpacking objects:  53% (40/75)   \rUnpacking objects:  54% (41/75)   \rUnpacking objects:  56% (42/75)   \rUnpacking objects:  57% (43/75)   \rUnpacking objects:  58% (44/75)   \rUnpacking objects:  60% (45/75)   \rUnpacking objects:  61% (46/75)   \rUnpacking objects:  62% (47/75)   \rUnpacking objects:  64% (48/75)   \rUnpacking objects:  65% (49/75)   \rremote: Total 75 (delta 1), reused 0 (delta 0), pack-reused 69\u001b[K\n",
            "Unpacking objects:  66% (50/75)   \rUnpacking objects:  68% (51/75)   \rUnpacking objects:  69% (52/75)   \rUnpacking objects:  70% (53/75)   \rUnpacking objects:  72% (54/75)   \rUnpacking objects:  73% (55/75)   \rUnpacking objects:  74% (56/75)   \rUnpacking objects:  76% (57/75)   \rUnpacking objects:  77% (58/75)   \rUnpacking objects:  78% (59/75)   \rUnpacking objects:  80% (60/75)   \rUnpacking objects:  81% (61/75)   \rUnpacking objects:  82% (62/75)   \rUnpacking objects:  84% (63/75)   \rUnpacking objects:  85% (64/75)   \rUnpacking objects:  86% (65/75)   \rUnpacking objects:  88% (66/75)   \rUnpacking objects:  89% (67/75)   \rUnpacking objects:  90% (68/75)   \rUnpacking objects:  92% (69/75)   \rUnpacking objects:  93% (70/75)   \rUnpacking objects:  94% (71/75)   \rUnpacking objects:  96% (72/75)   \rUnpacking objects:  97% (73/75)   \rUnpacking objects:  98% (74/75)   \rUnpacking objects: 100% (75/75)   \rUnpacking objects: 100% (75/75), done.\n"
          ],
          "name": "stdout"
        }
      ]
    },
    {
      "cell_type": "code",
      "metadata": {
        "id": "jHCn-GYCATSh",
        "colab_type": "code",
        "colab": {}
      },
      "source": [
        "from unit_waveforms import Four_state"
      ],
      "execution_count": 0,
      "outputs": []
    },
    {
      "cell_type": "markdown",
      "metadata": {
        "id": "kTGsZRM_Zlcv",
        "colab_type": "text"
      },
      "source": [
        "###Classes"
      ]
    },
    {
      "cell_type": "markdown",
      "metadata": {
        "id": "OJKbJUPnw5R-",
        "colab_type": "text"
      },
      "source": [
        "#### Core"
      ]
    },
    {
      "cell_type": "code",
      "metadata": {
        "id": "FEFbOZoMx2wq",
        "colab_type": "code",
        "colab": {}
      },
      "source": [
        "class PQcore:   \n",
        "#note: these calculations are more appropriate for EE core, than PQ core\n",
        "#because PQ mean path length has diagonal element in x dimension\n",
        "\n",
        "#does not capture Amin, which is usually 10% lower than Ae\n",
        "\n",
        "    def __init__(self, core_geom, u, gaps):\n",
        "        self.core_geometry = core_geom\n",
        "        self.gap_lengths = gaps\n",
        "        self.u = u\n",
        "        self.area_cp2l_ratio=2\n",
        "        \n",
        "        self.leg_areas = {'left':self.core_geometry['Area']/self.area_cp2l_ratio,\n",
        "                          'right':self.core_geometry['Area']/self.area_cp2l_ratio,\n",
        "                          'center':self.core_geometry['Area']}\n",
        "        \n",
        "        self.segment_areas={\n",
        "            'AB':self.leg_areas['left'],\n",
        "            'BC':self.leg_areas['right'],\n",
        "            'CD':self.leg_areas['right'], \n",
        "            'DE':self.leg_areas['right'],\n",
        "            'EF':self.leg_areas['left'],\n",
        "            'AF':self.leg_areas['left'],\n",
        "            'BE':self.leg_areas['center']}\n",
        "        \n",
        "        self.segment_fluxpath_lengths={\n",
        "            'AB':self.core_geometry['length']/2,\n",
        "            'BC':self.core_geometry['length']/2,\n",
        "            'CD':self.core_geometry['height'] - self.gap_lengths['CD'],\n",
        "            'DE':self.core_geometry['length']/2,\n",
        "            'EF':self.core_geometry['length']/2,\n",
        "            'AF':self.core_geometry['height'] - self.gap_lengths['AF'],\n",
        "            'BE':self.core_geometry['height'] - self.gap_lengths['BE']}"
      ],
      "execution_count": 0,
      "outputs": []
    },
    {
      "cell_type": "markdown",
      "metadata": {
        "id": "C1W9eZ7DyBBZ",
        "colab_type": "text"
      },
      "source": [
        "#### Winding"
      ]
    },
    {
      "cell_type": "code",
      "metadata": {
        "id": "b57zvhfHoAuP",
        "colab_type": "code",
        "colab": {
          "base_uri": "https://localhost:8080/",
          "height": 358
        },
        "outputId": "c7c53cc7-f1c4-4bcb-ab84-8b681e20d648"
      },
      "source": [
        "Image('Integrated_magnetic/autotransformer.PNG', width=400)\n"
      ],
      "execution_count": 6,
      "outputs": [
        {
          "output_type": "execute_result",
          "data": {
            "image/png": "[encoded data removed]",
            "text/plain": [
              "<IPython.core.display.Image object>"
            ]
          },
          "metadata": {
            "tags": [],
            "image/png": {
              "width": 400
            }
          },
          "execution_count": 6
        }
      ]
    },
    {
      "cell_type": "code",
      "metadata": {
        "id": "I2p00r3_yIjm",
        "colab_type": "code",
        "colab": {}
      },
      "source": [
        "class Winding:\n",
        "    def __init__(self, turns):\n",
        "        self.turns=turns"
      ],
      "execution_count": 0,
      "outputs": []
    },
    {
      "cell_type": "markdown",
      "metadata": {
        "id": "I9t-_vEHJGoB",
        "colab_type": "text"
      },
      "source": [
        "#### Time States"
      ]
    },
    {
      "cell_type": "code",
      "metadata": {
        "id": "c4n-1QjEJLD6",
        "colab_type": "code",
        "colab": {}
      },
      "source": [
        "class Time_states:  \n",
        "  \n",
        "#should be able to solve for time-states based on ac flux balance.\n",
        "#can also try to play with asymmetrical time periods\n",
        "  \n",
        "    def __init__(self,fs,duty):\n",
        "        self.fs = fs*2\n",
        "        self.ts = 1/fs\n",
        "        self.duty = duty\n",
        "        self.four_states=self.calculate_4state(fs=self.fs,duty=self.duty)\n",
        "        \n",
        "    def calculate_4state(self,fs,duty):\n",
        "        ts = 1/self.fs\n",
        "        t1 = self.duty*ts\n",
        "        t3 = t1\n",
        "        t2 = (ts-t1-t3)/2\n",
        "        t4 = t2\n",
        "        return {'state1':t1,\n",
        "                'state2':t2,\n",
        "                'state3':t3,\n",
        "                'state4':t4}"
      ],
      "execution_count": 0,
      "outputs": []
    },
    {
      "cell_type": "markdown",
      "metadata": {
        "id": "7TGxEGoMxXhu",
        "colab_type": "text"
      },
      "source": [
        "#### AC fluxes"
      ]
    },
    {
      "cell_type": "code",
      "metadata": {
        "id": "61sk4Y-b_j0l",
        "colab_type": "code",
        "colab": {
          "base_uri": "https://localhost:8080/",
          "height": 277
        },
        "outputId": "7670a7d1-9cb9-4b04-9549-cf75e6bf2e3f"
      },
      "source": [
        "#derived using gyrator-cap model.\n",
        "display(HTML(\"<table><tr><td><img src='https://github.com/grkidwell/Integrated_magnetic/blob/master/series_windings_acfluxrates.PNG?raw=1' width=400 height=250></td><td><img src='https://github.com/grkidwell/Integrated_magnetic/blob/master/winding_voltage_by_state_3.PNG?raw=1' width=450 height=250></td><td><img src='https://github.com/grkidwell/Integrated_magnetic/blob/master/fluxrate_sources.PNG?raw=1' width=400 height=250></td></tr></table>\"))\n"
      ],
      "execution_count": 9,
      "outputs": [
        {
          "output_type": "display_data",
          "data": {
            "text/html": [
              "<table><tr><td><img src='https://github.com/grkidwell/Integrated_magnetic/blob/master/series_windings_acfluxrates.PNG?raw=1' width=400 height=250></td><td><img src='https://github.com/grkidwell/Integrated_magnetic/blob/master/winding_voltage_by_state_3.PNG?raw=1' width=450 height=250></td><td><img src='https://github.com/grkidwell/Integrated_magnetic/blob/master/fluxrate_sources.PNG?raw=1' width=400 height=250></td></tr></table>"
            ],
            "text/plain": [
              "<IPython.core.display.HTML object>"
            ]
          },
          "metadata": {
            "tags": []
          }
        }
      ]
    },
    {
      "cell_type": "markdown",
      "metadata": {
        "id": "y9ehDlWDJLpx",
        "colab_type": "text"
      },
      "source": [
        "$N_1\\cdot\\dot\\Phi_1-N_{c1}\\cdot\\dot\\Phi_c=V_{phase1}-V_{out}$ \n",
        "\n",
        "$-N_{c2}\\cdot\\dot\\Phi_c+N_2\\cdot\\dot\\Phi_2=V_{out}-V_{phase2}$ \n",
        "\n",
        "$\\dot\\Phi_1+\\dot\\Phi_c+\\dot\\Phi_2=0$\n",
        "\n"
      ]
    },
    {
      "cell_type": "code",
      "metadata": {
        "id": "RR32w9HdxDDq",
        "colab_type": "code",
        "colab": {}
      },
      "source": [
        "class AC_fluxes:   #only for Vout=<Vin/4\n",
        "    \n",
        "    def __init__(self, core, winding, vin, vout, fs, time_states):\n",
        "      \n",
        "        self.core=core\n",
        "        \n",
        "        self.winding=winding        \n",
        "        self.fullturns1  = self.winding.turns['full1']\n",
        "        self.fullturns2  = self.winding.turns['full2']\n",
        "        self.halfturns1  = self.winding.turns['half_window1']   # number of half turns through window 1\n",
        "        self.halfturns2  = self.winding.turns['half_window2']   # number of half turns through window 2\n",
        "        \n",
        "        self.vin = vin\n",
        "        self.vout = vout\n",
        "        \n",
        "        self.time_states=time_states\n",
        "        self.ts = sum(self.time_states.values())\n",
        "        \n",
        "        self.fluxrates=self.calculate_fluxrates()\n",
        "        self.deltaflux = self.calculate_fluxchanges()\n",
        "        \n",
        "        self.fluxbalance=self.confirm_flux_balance()\n",
        "        \n",
        "        self.offset=self.calculate_offset()\n",
        "        #self.fluxbalance=sum(self.deltaflux)\n",
        "        \n",
        "    def calculate_fluxrates(self):\n",
        "        vphase1 = {'state1':self.vin/2,\n",
        "                   'state2':0,\n",
        "                   'state3':0,\n",
        "                   'state4':0}\n",
        "        vphase2 = {'state1':0,\n",
        "                   'state2':0,\n",
        "                   'state3':self.vin/2,\n",
        "                   'state4':0}\n",
        "        \n",
        "        \n",
        "        #3 equations, 3 unknowns to solve for flux rates.  \n",
        "        #'up' = positive for all 3 legs\n",
        "        coefficients = np.array([\n",
        "                        [self.halfturns1, -self.fullturns1,               0],\n",
        "                        [              0, -self.fullturns2, self.halfturns2],\n",
        "                        [              1,             1,               1]])\n",
        "        \n",
        "        #winding_voltages = np.array([vphase1[self.state]-self.vout,\n",
        "        #                             self.vout-vphase2[self.state],\n",
        "        #                                                         0])\n",
        "        legs = ['left','center','right']\n",
        "        \n",
        "        #create dictionary of dictionaries of fluxrates[state][leg]\n",
        "        fluxratedict = {}\n",
        "        for state in self.time_states:\n",
        "            winding_voltages = np.array([vphase1[state]-self.vout,\n",
        "                                         self.vout-vphase2[state],\n",
        "                                                                0])\n",
        "            fluxratedict[state]= dict(zip(legs,np.linalg.solve(coefficients,winding_voltages)))\n",
        "        return  fluxratedict\n",
        "    \n",
        "    def calculate_fluxchanges(self):\n",
        "        deltafluxdictofdicts={}  #[state][leg]\n",
        "        for state, time in self.time_states.items():\n",
        "            fluxrate_legs=self.fluxrates[state]\n",
        "            deltafluxdictofdicts[state]={leg:time*fluxrate for leg,fluxrate in fluxrate_legs.items()}\n",
        "        return deltafluxdictofdicts\n",
        "      \n",
        "    def confirm_flux_balance(self):\n",
        "        deltafluxsum={'left':0,'center':0,'right':0}\n",
        "        for state, leg_deltaflux in self.deltaflux.items():\n",
        "            for leg, deltaflux in leg_deltaflux.items():\n",
        "                deltafluxsum[leg]+=deltaflux\n",
        "        return deltafluxsum\n",
        "      \n",
        "    def calculate_offset(self):\n",
        "        offset={'left':0,'center':0,'right':0}\n",
        "        for state, leg_deltaflux in self.deltaflux.items():\n",
        "            for leg, deltaflux in leg_deltaflux.items():\n",
        "                offset[leg]+=deltaflux*self.time_states[state]/2/self.ts\n",
        "        return offset\n",
        "        \n"
      ],
      "execution_count": 0,
      "outputs": []
    },
    {
      "cell_type": "markdown",
      "metadata": {
        "id": "DLJ0MyBqxG4b",
        "colab_type": "text"
      },
      "source": [
        "#### Reluctance"
      ]
    },
    {
      "cell_type": "code",
      "metadata": {
        "id": "4HazC8e60t2L",
        "colab_type": "code",
        "colab": {}
      },
      "source": [
        "class Reluctance_model:\n",
        "\n",
        "  #valid for 3 leg EE/EI type core geometry (EE, EI, PQ, RM, etc.)\n",
        "  \n",
        "    def __init__(self,core):\n",
        "      \n",
        "        self.core=core\n",
        "        \n",
        "        #create dictionary of core segment reluctances\n",
        "        self.segment_reluctances = {key: self.reluctance(ur=self.core.u, length=value, area=self.core.segment_areas[key])  for key, value in self.core.segment_fluxpath_lengths.items()}\n",
        "    \n",
        "        #add gap reluctances to legs\n",
        "        for key, value in self.core.gap_lengths.items():\n",
        "            self.segment_reluctances[key]+=self.reluctance(ur=1, length=value, area=self.core.segment_areas[key])\n",
        "        \n",
        "        #each leg is made up of segments\n",
        "        self.leg_segments={\n",
        "            'left':   ['AB','EF','AF'],\n",
        "            'right':  ['BC','CD','DE'],\n",
        "            'center': ['BE']\n",
        "        }\n",
        "        \n",
        "        #create dictionary of leg reluctances\n",
        "        self.leg_reluctances = {leg: self.total_reluctance(segmentlist) for leg, segmentlist in self.leg_segments.items()}\n",
        "        \n",
        "        #create dictionary of reluctances seen by each winding\n",
        "        self.winding_reluctances = {'half_window1': self.leg_reluctances['left']  + self.parallel(self.leg_reluctances['center'],self.leg_reluctances['right']),\n",
        "                                    'half_window2': self.leg_reluctances['right'] + self.parallel(self.leg_reluctances['center'],self.leg_reluctances['left']),\n",
        "                                    'full'        : self.leg_reluctances['center']+ self.parallel(self.leg_reluctances['left'],self.leg_reluctances['right'])}\n",
        "    \n",
        "        #create dictionary of parallel reluctances.  Used in superposition calculation\n",
        "        self.parallel_reluctances = {'Rpc2': self.parallel(self.leg_reluctances['center'],self.leg_reluctances['right']),\n",
        "                                     'Rpc1': self.parallel(self.leg_reluctances['center'],self.leg_reluctances['left']),\n",
        "                                     'Rp12': self.parallel(self.leg_reluctances['left'],  self.leg_reluctances['right'])}\n",
        "        \n",
        "        \n",
        "        \n",
        "    def reluctance(self,ur,length,area): \n",
        "        uo = 4*np.pi*1e-7\n",
        "        return length/(uo*ur*area)\n",
        "      \n",
        "    def total_reluctance(self,segmentlist):\n",
        "        reluctance_list = [self.segment_reluctances[segment] for segment in segmentlist]\n",
        "        return sum(reluctance_list)\n",
        "    \n",
        "    def parallel(self,a,b):\n",
        "        return a*b/(a+b)\n",
        "      \n"
      ],
      "execution_count": 0,
      "outputs": []
    },
    {
      "cell_type": "markdown",
      "metadata": {
        "id": "gto_uTeyyxeS",
        "colab_type": "text"
      },
      "source": [
        "#### DC fluxes and currents"
      ]
    },
    {
      "cell_type": "code",
      "metadata": {
        "id": "kN0eXkntnHFn",
        "colab_type": "code",
        "colab": {
          "base_uri": "https://localhost:8080/",
          "height": 286
        },
        "outputId": "8365c6b5-ca1a-4765-bde6-0ccd89bf5704"
      },
      "source": [
        "Image('Integrated_magnetic/DC_reluctance_circuit.PNG', width=400)"
      ],
      "execution_count": 30,
      "outputs": [
        {
          "output_type": "execute_result",
          "data": {
            "image/png": "[encoded data removed]",
            "text/plain": [
              "<IPython.core.display.Image object>"
            ]
          },
          "metadata": {
            "tags": [],
            "image/png": {
              "width": 400
            }
          },
          "execution_count": 30
        }
      ]
    },
    {
      "cell_type": "markdown",
      "metadata": {
        "id": "XIG2I5Bhnsak",
        "colab_type": "text"
      },
      "source": [
        "$R_{pc1}=\\dfrac{R_cR_1}{R_c+R_1}\\quad R_{pc2}=\\dfrac{R_cR_2}{R_c+R_2}\\quad R_{p12}=\\dfrac{R_1R_2}{R_1+R_2}$ \n",
        "\\\n",
        "\\\n",
        "\\\n",
        "$n_1I_1+n_2I_2-R1\\Phi_1-R_2\\Phi_2=0$\n",
        "\n",
        "$n_1I_1+n_2I_2=Iout$\n",
        "\n",
        "$n_{c1}I_1-n_{c2}I_2=0$\n",
        "\n",
        "$(\\dfrac{n_1R_{pc2}}{R_1+R_{pc2}}-\\dfrac{n_{c1}R_{p12}}{R_c+R_{p12}}-n_1)I_1+$\n",
        "$(\\dfrac{n_{c2}R_{p12}}{R_c+R_{p12}}-\\dfrac{n_2R_{pc1}}{R_2+R_{pc1}})I_2+R_1\\Phi_1=0$"
      ]
    },
    {
      "cell_type": "code",
      "metadata": {
        "id": "vUs1Wt7SaDbF",
        "colab_type": "code",
        "colab": {}
      },
      "source": [
        "class DC_fluxes_and_currents:\n",
        "  \n",
        "    def __init__(self, core, winding, iout):  #warning: an imbalance in leg currents could produce DC flux in the magnetizing \n",
        "        self.core=core               \n",
        "        self.winding=winding\n",
        "        self.iout = iout\n",
        "        self.reluctances=Reluctance_model(self.core)\n",
        "        \n",
        "        self.dc_fluxes_and_currents=self.calculate_dc_fluxes_and_currents()\n",
        "        self.dc_fluxes = self.dc_fluxes_and_currents['dc_flux_per_leg']\n",
        "        self.dc_currents = self.dc_fluxes_and_currents['amps_per_winding']\n",
        "        \n",
        "    def calculate_dc_fluxes_and_currents(self):\n",
        "        nc1=self.winding.turns['full1']\n",
        "        nc2=self.winding.turns['full2']\n",
        "        n1=self.winding.turns['half_window1']\n",
        "        n2=self.winding.turns['half_window2']\n",
        "        \n",
        "        r1=self.reluctances.leg_reluctances['left']\n",
        "        r2=self.reluctances.leg_reluctances['right']\n",
        "        rc=self.reluctances.leg_reluctances['center']\n",
        "        \n",
        "        rpc1=self.reluctances.parallel_reluctances['Rpc1']\n",
        "        rpc2=self.reluctances.parallel_reluctances['Rpc2']\n",
        "        rp12=self.reluctances.parallel_reluctances['Rp12']\n",
        "        \n",
        "        \n",
        "        coefficients = np.array([\n",
        "            [n1, n2, -r1, -r2],\n",
        "            [n1, n2,   0,   0],\n",
        "            [nc1,-nc2,  0,  0],\n",
        "            [n1*rpc2/(r1+rpc2)-rp12*nc1/(rc+rp12)-n1, rp12*nc2/(rc+rp12)-rpc1*n2/(r2+rpc1), r1, 0]])\n",
        "        \n",
        "        const_array = np.array([        0,\n",
        "                                self.iout,\n",
        "                                        0,\n",
        "                                        0])\n",
        "        \n",
        "        #solve for [I1,I2,flux1,flux2]\n",
        "        solution = np.linalg.solve(coefficients,const_array)\n",
        "        \n",
        "        #half_window1 winding is in series with full1 winding, so both are I1\n",
        "        #half_window2 winding is in series with full2 winding, so both are I2\n",
        "        amps_per_winding = {'half_window1':solution[0], 'full1':solution[0],\n",
        "                            'half_window2':solution[1], 'full2':solution[1]}\n",
        "        \n",
        "        #'up' = positive for all 3 legs\n",
        "        dc_flux_per_leg = {'left':solution[2],'right':-solution[3],'center':-(solution[2]-solution[3])}\n",
        "        \n",
        "        return {'amps_per_winding':amps_per_winding, 'dc_flux_per_leg':dc_flux_per_leg}\n"
      ],
      "execution_count": 0,
      "outputs": []
    },
    {
      "cell_type": "markdown",
      "metadata": {
        "id": "ZuwEY9pr0nck",
        "colab_type": "text"
      },
      "source": [
        "#### Permeance"
      ]
    },
    {
      "cell_type": "code",
      "metadata": {
        "id": "LpXr-SqMy9VX",
        "colab_type": "code",
        "colab": {}
      },
      "source": [
        "class Permeance_model:\n",
        "  \n",
        "    def __init__(self,core):\n",
        "        self.core = core\n",
        "        self.reluctances = Reluctance_model(core)\n",
        "        \n",
        "        self.leg_permeances = self.permeance_dicts(self.reluctances.leg_reluctances)\n",
        "        \n",
        "    def permeance(self,r):\n",
        "        return 1/r\n",
        "    \n",
        "    def permeance_dicts(self,r):\n",
        "        return {key: 1/value for key, value in r.items()}\n",
        "      \n",
        "\n"
      ],
      "execution_count": 0,
      "outputs": []
    },
    {
      "cell_type": "markdown",
      "metadata": {
        "id": "VgZjWJIgr148",
        "colab_type": "text"
      },
      "source": [
        "#### Flux Densities"
      ]
    },
    {
      "cell_type": "code",
      "metadata": {
        "id": "1-4cOzLfy6OW",
        "colab_type": "code",
        "colab": {}
      },
      "source": [
        "class Flux_densities:\n",
        "  \n",
        "    def __init__(self,acfluxes,dcfluxes):\n",
        "      \n",
        "        self.acfluxes=acfluxes\n",
        "        self.leg_areas=self.acfluxes.core.leg_areas\n",
        "        self.time_states=self.acfluxes.time_states\n",
        "        \n",
        "        self.deltaflux=self.acfluxes.deltaflux\n",
        "        self.bac = self.calculate_bac()\n",
        "        self.bac_offset=self.acfluxes.offset\n",
        "      \n",
        "        self.dcfluxes = dcfluxes\n",
        "        self.bdc = self.calculate_bdc()\n",
        "        self.bacdc = self.calculate_bacdc()\n",
        "        \n",
        "    def calculate_bac(self):\n",
        "        deltaflux=self.acfluxes.deltaflux\n",
        "        bpp_dictofdicts={} \n",
        "        for state, time in self.time_states.items():\n",
        "            deltaflux_legs=self.deltaflux[state]\n",
        "            bpp_dictofdicts[state]={leg:delta_flux/self.leg_areas[leg] for leg, delta_flux in deltaflux_legs.items()}\n",
        "        return bpp_dictofdicts\n",
        "      \n",
        "    def calculate_bdc(self):\n",
        "        bdc = {leg: flux/self.leg_areas[leg] for leg, flux in self.dcfluxes.items()}\n",
        "        return bdc\n",
        "        \n",
        "    def calculate_bacdc(self):\n",
        "        bacdc={}\n",
        "        for state, leg_bac in self.bac.items():\n",
        "            bacdc[state] = {leg: self.bdc[leg]+bac/2-self.bac_offset[leg]*0 for leg, bac in leg_bac.items()}\n",
        "        return bacdc\n",
        "        "
      ],
      "execution_count": 0,
      "outputs": []
    },
    {
      "cell_type": "markdown",
      "metadata": {
        "id": "_X3EBWGqxmSD",
        "colab_type": "text"
      },
      "source": [
        "#### DC+AC Winding currents"
      ]
    },
    {
      "cell_type": "code",
      "metadata": {
        "id": "2gFCELh-LFXF",
        "colab_type": "code",
        "colab": {}
      },
      "source": [
        "class Winding_currents:\n",
        "    pass"
      ],
      "execution_count": 0,
      "outputs": []
    },
    {
      "cell_type": "markdown",
      "metadata": {
        "id": "p6Wuqm8_rF_I",
        "colab_type": "text"
      },
      "source": [
        "#### AC currents"
      ]
    },
    {
      "cell_type": "code",
      "metadata": {
        "id": "hYZbTeGUrKlo",
        "colab_type": "code",
        "colab": {}
      },
      "source": [
        "class AC_currents:\n",
        "    \n",
        "    def __init__(self,acfluxes):\n",
        "        \n",
        "        self.acfluxes=acfluxes\n",
        "        \n",
        "        self.core=self.acfluxes.core\n",
        "        self.permeances=Permeance_model(self.core).leg_permeances\n",
        "        \n",
        "        self.time_states=self.acfluxes.time_states\n",
        "        self.fluxrates=self.acfluxes.fluxrates\n",
        "        self.turns=self.acfluxes.winding.turns\n",
        "        \n",
        "        self.deltaflux=self.acfluxes.deltaflux #calculate_fluxchanges()\n",
        "        \n",
        "        self.deltaMMF=self.calculate_deltaMMFs()\n",
        "        \n",
        "        self.ac_currents = self.calculate_ac_currents()\n",
        "        \n",
        "    def calculate_deltaMMFs(self):\n",
        "        p1 = self.permeances['left']\n",
        "        pc = self.permeances['center']\n",
        "        p2 = self.permeances['right']\n",
        "      \n",
        "        coefficients = np.array([\n",
        "            [1,                     -1,         0],\n",
        "            [0,                     1,         -1],\n",
        "            [p1/(pc+p2)-1, pc/(p1+p2), p2/(p1+pc)]])\n",
        "        \n",
        "        legs = ['left','center','right']\n",
        "        #create dictionary of dictionaries of deltaMMFs[state][leg]\n",
        "        deltaMMFdictofdict={}\n",
        "        for state in self.time_states:\n",
        "            right_matrix = np.array([ self.deltaflux[state]['left']/p1  - self.deltaflux[state]['center']/pc,\n",
        "                                     -self.deltaflux[state]['right']/p2 + self.deltaflux[state]['center']/pc,\n",
        "                                     -self.deltaflux[state]['left']/p1])\n",
        "            deltaMMFdictofdict[state]=dict(zip(legs,np.linalg.solve(coefficients,right_matrix)))\n",
        "        return deltaMMFdictofdict\n",
        "      \n",
        "    def calculate_ac_currents(self):\n",
        "        ac_rippledictofdict={}\n",
        "        for state in self.time_states:\n",
        "            ac_rippledictofdict[state]={'half_window1':self.deltaMMF[state]['left']/self.turns['half_window1'],\n",
        "                                        'half_window2':self.deltaMMF[state]['right']/self.turns['half_window2'],\n",
        "                                        'full1':self.deltaMMF[state]['center']/(self.turns['full1']),\n",
        "                                        'full2':self.deltaMMF[state]['center']/(self.turns['full2'])}\n",
        "        return ac_rippledictofdict\n",
        "        "
      ],
      "execution_count": 0,
      "outputs": []
    },
    {
      "cell_type": "markdown",
      "metadata": {
        "id": "Yradscw8ZhcN",
        "colab_type": "text"
      },
      "source": [
        "###Input Parameters"
      ]
    },
    {
      "cell_type": "code",
      "metadata": {
        "id": "K-Ss07bWZ0pg",
        "colab_type": "code",
        "colab": {}
      },
      "source": [
        "Vin = 60\n",
        "Vout = 12\n",
        "iout = 25\n",
        "\n",
        "fs=200e3\n",
        "\n",
        "duty=Vout/(Vin/2)\n",
        "\n",
        "time_states=Time_states(fs=fs,duty=duty).four_states\n",
        "\n",
        "#length, height  at core center (mean flux path).  Area is at center post\n",
        "PQ2620 = {'length':22.5e-3, 'height':11.5e-3, 'Area':119e-6}  \n",
        "PQ2020 = {'length':18.5e-3, 'height':11.5e-3, 'Area':62e-6}  \n",
        "PQ1612 = {'length':12e-3, 'height':9e-3, 'Area':42e-6}  \n",
        "\n",
        "gap_lengths = {'AF':0.1e-3, 'BE':0.1e-3, 'CD':0.1e-3}\n",
        "\n",
        "pqintcore=PQcore(PQ1612,3200,gap_lengths)\n",
        "\n",
        "nturns = {'half_window1':1, 'full1':3, 'full2':3, 'half_window2':1}\n",
        "wind3p5turn=Winding(nturns)"
      ],
      "execution_count": 0,
      "outputs": []
    },
    {
      "cell_type": "markdown",
      "metadata": {
        "id": "IZU4xzqOZwHA",
        "colab_type": "text"
      },
      "source": [
        "###Results"
      ]
    },
    {
      "cell_type": "code",
      "metadata": {
        "id": "fP57Uj12fhCs",
        "colab_type": "code",
        "colab": {
          "base_uri": "https://localhost:8080/",
          "height": 34
        },
        "outputId": "9125cf99-a06a-463f-ae11-cc656c11a637"
      },
      "source": [
        "dc_fluxes_and_currents=DC_fluxes_and_currents(core=pqintcore, winding=wind3p5turn,iout=iout)\n",
        "ac_fluxes=AC_fluxes(core=pqintcore, winding=wind3p5turn, vin=Vin, vout=Vout, fs=fs, time_states=time_states)\n",
        "ac_fluxes.fluxbalance"
      ],
      "execution_count": 23,
      "outputs": [
        {
          "output_type": "execute_result",
          "data": {
            "text/plain": [
              "{'center': 0.0, 'left': 2.541098841762901e-21, 'right': -2.964615315390051e-21}"
            ]
          },
          "metadata": {
            "tags": []
          },
          "execution_count": 23
        }
      ]
    },
    {
      "cell_type": "code",
      "metadata": {
        "id": "3X5b0vYJW7sm",
        "colab_type": "code",
        "outputId": "c8377645-ed9a-4205-9c7d-d218ddb6f223",
        "colab": {
          "base_uri": "https://localhost:8080/",
          "height": 289
        }
      },
      "source": [
        "ac_currents=AC_currents(ac_fluxes).ac_currents\n",
        "ac_currents"
      ],
      "execution_count": 24,
      "outputs": [
        {
          "output_type": "execute_result",
          "data": {
            "text/plain": [
              "{'state1': {'full1': -1.3171599002809868,\n",
              "  'full2': -1.3171599002809868,\n",
              "  'half_window1': 25.155706048995924,\n",
              "  'half_window2': 0.934313147198101},\n",
              " 'state2': {'full1': -5.921189464667501e-16,\n",
              "  'full2': -5.921189464667501e-16,\n",
              "  'half_window1': -12.11069645089891,\n",
              "  'half_window2': 12.110696450898907},\n",
              " 'state3': {'full1': 1.3171599002809866,\n",
              "  'full2': 1.3171599002809866,\n",
              "  'half_window1': -0.9343131471981003,\n",
              "  'half_window2': -25.15570604899593},\n",
              " 'state4': {'full1': -5.921189464667501e-16,\n",
              "  'full2': -5.921189464667501e-16,\n",
              "  'half_window1': -12.11069645089891,\n",
              "  'half_window2': 12.110696450898907}}"
            ]
          },
          "metadata": {
            "tags": []
          },
          "execution_count": 24
        }
      ]
    },
    {
      "cell_type": "code",
      "metadata": {
        "id": "7V5guDHQ103j",
        "colab_type": "code",
        "outputId": "29295734-74fc-4261-e5a9-2ea24ad477b1",
        "colab": {
          "base_uri": "https://localhost:8080/",
          "height": 221
        }
      },
      "source": [
        "\n",
        "b=Flux_densities(ac_fluxes,dc_fluxes_and_currents.dc_fluxes)\n",
        "b.bacdc"
      ],
      "execution_count": 27,
      "outputs": [
        {
          "output_type": "execute_result",
          "data": {
            "text/plain": [
              "{'state1': {'center': -0.051020408163265356,\n",
              "  'left': 0.2698983267829095,\n",
              "  'right': -0.16785751045637878},\n",
              " 'state2': {'center': -4.033490225020478e-17,\n",
              "  'left': 0.07602077576250134,\n",
              "  'right': -0.07602077576250126},\n",
              " 'state3': {'center': 0.05102040816326527,\n",
              "  'left': 0.1678575104563789,\n",
              "  'right': -0.2698983267829094},\n",
              " 'state4': {'center': -4.033490225020478e-17,\n",
              "  'left': 0.07602077576250134,\n",
              "  'right': -0.07602077576250126}}"
            ]
          },
          "metadata": {
            "tags": []
          },
          "execution_count": 27
        }
      ]
    },
    {
      "cell_type": "code",
      "metadata": {
        "id": "8Uq5CPet-Mby",
        "colab_type": "code",
        "colab": {}
      },
      "source": [
        "def ac_current_function(t):\n",
        "    pass\n",
        "    "
      ],
      "execution_count": 0,
      "outputs": []
    },
    {
      "cell_type": "code",
      "metadata": {
        "id": "9BVY7WwGkZyv",
        "colab_type": "code",
        "colab": {}
      },
      "source": [
        ""
      ],
      "execution_count": 0,
      "outputs": []
    }
  ]
}