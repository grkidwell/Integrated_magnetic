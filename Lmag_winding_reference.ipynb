{
 "cells": [
  {
   "cell_type": "code",
   "execution_count": 1,
   "id": "8ae74027",
   "metadata": {
    "tags": []
   },
   "outputs": [],
   "source": [
    "from IPython.display import Image, HTML, display"
   ]
  },
  {
   "cell_type": "markdown",
   "id": "8fc77977",
   "metadata": {},
   "source": [
    "#### EE core with 2 windings on center post "
   ]
  },
  {
   "cell_type": "code",
   "execution_count": 5,
   "id": "bdf9c469",
   "metadata": {
    "tags": []
   },
   "outputs": [
    {
     "data": {
      "image/png": "[encoded data removed]",
      "text/plain": [
       "<IPython.core.display.Image object>"
      ]
     },
     "execution_count": 5,
     "metadata": {
      "image/png": {
       "width": 400
      }
     },
     "output_type": "execute_result"
    }
   ],
   "source": [
    "Image('images/ee_magnetic.png', width=400)\n"
   ]
  },
  {
   "cell_type": "code",
   "execution_count": null,
   "id": "24fdcda0",
   "metadata": {
    "tags": []
   },
   "outputs": [],
   "source": []
  },
  {
   "cell_type": "code",
   "execution_count": 8,
   "id": "53740b16",
   "metadata": {
    "tags": []
   },
   "outputs": [
    {
     "data": {
      "text/html": [
       "<table><tr><td><img src='images/deltaMMF2.png' width=200 height=250></td><td><img src='images/deltaMMF2_simplify.png' width=250 height=50></td></tr></table>"
      ],
      "text/plain": [
       "<IPython.core.display.HTML object>"
      ]
     },
     "metadata": {},
     "output_type": "display_data"
    }
   ],
   "source": [
    "#Image('deltaMMF2.png', width=200)\n",
    "display(HTML(\"<table><tr><td><img src='images/deltaMMF2.png' width=200 height=250></td><td><img src='images/deltaMMF2_simplify.png' width=250 height=50></td></tr></table>\"))\n"
   ]
  },
  {
   "cell_type": "markdown",
   "id": "fb30d6fc",
   "metadata": {},
   "source": [
    "#### The reflected MMF can be split across primary and secondary windings according to desired respective Lmag values "
   ]
  },
  {
   "cell_type": "code",
   "execution_count": 2,
   "id": "8c71d7f0",
   "metadata": {
    "tags": []
   },
   "outputs": [
    {
     "data": {
      "text/html": [
       "<table><tr><td><img src='images/deltaMMF_lmag_primary.png' width=400 height=250></td><td><img src='images/deltaMMF_lmag_secondary.png' width=400 height=250></td><td><img src='images/deltaMMF_split.png' width=400 height=50></td></tr></table>"
      ],
      "text/plain": [
       "<IPython.core.display.HTML object>"
      ]
     },
     "metadata": {},
     "output_type": "display_data"
    }
   ],
   "source": [
    "#Image('deltaMMF2.png', width=300)\n",
    "display(HTML(\"<table><tr><td><img src='images/deltaMMF_lmag_primary.png' width=400 height=250></td><td><img src='images/deltaMMF_lmag_secondary.png' width=400 height=250></td><td><img src='images/deltaMMF_split.png' width=400 height=50></td></tr></table>\"))\n"
   ]
  },
  {
   "cell_type": "code",
   "execution_count": 3,
   "id": "cc795905",
   "metadata": {
    "jupyter": {
     "source_hidden": true
    },
    "tags": []
   },
   "outputs": [
    {
     "data": {
      "image/png": "[encoded data removed]",
      "text/plain": [
       "<IPython.core.display.Image object>"
      ]
     },
     "execution_count": 3,
     "metadata": {
      "image/png": {
       "width": 900
      }
     },
     "output_type": "execute_result"
    }
   ],
   "source": [
    "Image('images/lmag_reference.png', width=900)\n"
   ]
  },
  {
   "cell_type": "code",
   "execution_count": null,
   "id": "59527431",
   "metadata": {
    "jupyter": {
     "source_hidden": true
    }
   },
   "outputs": [],
   "source": []
  }
 ],
 "metadata": {
  "kernelspec": {
   "display_name": "Python 3",
   "language": "python",
   "name": "python3"
  },
  "language_info": {
   "codemirror_mode": {
    "name": "ipython",
    "version": 3
   },
   "file_extension": ".py",
   "mimetype": "text/x-python",
   "name": "python",
   "nbconvert_exporter": "python",
   "pygments_lexer": "ipython3",
   "version": "3.10.4"
  }
 },
 "nbformat": 4,
 "nbformat_minor": 5
}
